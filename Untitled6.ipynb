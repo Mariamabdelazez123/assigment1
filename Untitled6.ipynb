{
  "nbformat": 4,
  "nbformat_minor": 0,
  "metadata": {
    "colab": {
      "provenance": []
    },
    "kernelspec": {
      "name": "python3",
      "display_name": "Python 3"
    },
    "language_info": {
      "name": "python"
    }
  },
  "cells": [
    {
      "cell_type": "markdown",
      "source": [
        "# assignment ***1***"
      ],
      "metadata": {
        "id": "InmmCPc3CkNO"
      }
    },
    {
      "cell_type": "markdown",
      "source": [
        "# Insert the correct syntax to convert x into a **integer**\n"
      ],
      "metadata": {
        "id": "V4A9eR827nRj"
      }
    },
    {
      "cell_type": "code",
      "execution_count": 1,
      "metadata": {
        "colab": {
          "base_uri": "https://localhost:8080/"
        },
        "id": "i573ZnBQ7TiQ",
        "outputId": "07de9cb2-a850-4b00-a87a-9ff56187b5d9"
      },
      "outputs": [
        {
          "output_type": "stream",
          "name": "stdout",
          "text": [
            "5\n"
          ]
        }
      ],
      "source": [
        " x = 5.5\n",
        " x =int(x)\n",
        " print(x)"
      ]
    },
    {
      "cell_type": "markdown",
      "source": [
        "# Insert the correct syntax to convert x into a floating point number."
      ],
      "metadata": {
        "id": "jsC_PSqA70ER"
      }
    },
    {
      "cell_type": "code",
      "source": [
        "x = 5\n",
        "x =float(x)\n",
        "print(x)"
      ],
      "metadata": {
        "colab": {
          "base_uri": "https://localhost:8080/"
        },
        "id": "Heb_r-Ui7hiM",
        "outputId": "da2886a6-3be6-4e0f-92e2-370da537b9b7"
      },
      "execution_count": 2,
      "outputs": [
        {
          "output_type": "stream",
          "name": "stdout",
          "text": [
            "5.0\n"
          ]
        }
      ]
    },
    {
      "cell_type": "markdown",
      "source": [
        "# Exercise on **string**"
      ],
      "metadata": {
        "id": "xgDoAOQu87-O"
      }
    },
    {
      "cell_type": "markdown",
      "source": [
        "# Use the len() function to print the length of the string."
      ],
      "metadata": {
        "id": "_0KdbHcn8Gcv"
      }
    },
    {
      "cell_type": "code",
      "source": [
        "x = \"Hello World\"\n",
        "print(len(x))"
      ],
      "metadata": {
        "colab": {
          "base_uri": "https://localhost:8080/"
        },
        "id": "7UG7i-C48Olc",
        "outputId": "a288033a-2d05-4207-92b6-b622735e403b"
      },
      "execution_count": 3,
      "outputs": [
        {
          "output_type": "stream",
          "name": "stdout",
          "text": [
            "11\n"
          ]
        }
      ]
    },
    {
      "cell_type": "code",
      "source": [
        "txt = \"Hello World\"\n",
        "x= txt[0]\n",
        "print(x)"
      ],
      "metadata": {
        "colab": {
          "base_uri": "https://localhost:8080/"
        },
        "id": "19csnUoL86lO",
        "outputId": "23912368-bd91-4087-fc6f-fd427161597c"
      },
      "execution_count": 4,
      "outputs": [
        {
          "output_type": "stream",
          "name": "stdout",
          "text": [
            "H\n"
          ]
        }
      ]
    },
    {
      "cell_type": "code",
      "source": [
        "txt = \"Hello World\"\n",
        "x =txt[2:5]\n",
        "print(x)"
      ],
      "metadata": {
        "colab": {
          "base_uri": "https://localhost:8080/"
        },
        "id": "C5kCCBsP9mSa",
        "outputId": "04c2a960-68f6-4426-e263-1675e9dee961"
      },
      "execution_count": 6,
      "outputs": [
        {
          "output_type": "stream",
          "name": "stdout",
          "text": [
            "llo\n"
          ]
        }
      ]
    },
    {
      "cell_type": "code",
      "source": [
        "txt = \" Hello World \"\n",
        "x =txt.strip()\n",
        "print(x)"
      ],
      "metadata": {
        "colab": {
          "base_uri": "https://localhost:8080/"
        },
        "id": "O4m0SoVi-Brj",
        "outputId": "2e7ed0b4-5204-4c68-a966-d2336d37ca51"
      },
      "execution_count": 7,
      "outputs": [
        {
          "output_type": "stream",
          "name": "stdout",
          "text": [
            "Hello World\n"
          ]
        }
      ]
    },
    {
      "cell_type": "code",
      "source": [
        "txt = \"Hello World\"\n",
        "txt = txt.upper()\n",
        "print(txt)\n"
      ],
      "metadata": {
        "colab": {
          "base_uri": "https://localhost:8080/"
        },
        "id": "eSbjnMvI-9Om",
        "outputId": "e16b92e5-5571-432e-c597-81146ce7c633"
      },
      "execution_count": 8,
      "outputs": [
        {
          "output_type": "stream",
          "name": "stdout",
          "text": [
            "HELLO WORLD\n"
          ]
        }
      ]
    },
    {
      "cell_type": "code",
      "source": [
        "txt = \"Hello World\"\n",
        "txt = txt.lower()\n",
        "print(txt)\n"
      ],
      "metadata": {
        "colab": {
          "base_uri": "https://localhost:8080/"
        },
        "id": "2LLx9SFE_gXi",
        "outputId": "fa9021c6-2daf-42b2-be0c-535d6c50578a"
      },
      "execution_count": 9,
      "outputs": [
        {
          "output_type": "stream",
          "name": "stdout",
          "text": [
            "hello world\n"
          ]
        }
      ]
    },
    {
      "cell_type": "code",
      "source": [
        "txt = \"Hello World\"\n",
        "txt = txt.replace(\"H\",\"J\")\n",
        "print(txt)"
      ],
      "metadata": {
        "colab": {
          "base_uri": "https://localhost:8080/"
        },
        "id": "mB58Cr3y_rpH",
        "outputId": "45dee1f3-ae18-4edb-889e-5e04f0e381d5"
      },
      "execution_count": 10,
      "outputs": [
        {
          "output_type": "stream",
          "name": "stdout",
          "text": [
            "Jello World\n"
          ]
        }
      ]
    },
    {
      "cell_type": "code",
      "source": [
        "age = 36\n",
        "txt = f\"My name is John, and I am {age} years old\"\n",
        "print(txt)"
      ],
      "metadata": {
        "colab": {
          "base_uri": "https://localhost:8080/"
        },
        "id": "_POdlwhnAEoO",
        "outputId": "40033527-d0d6-47d7-84e8-a0f59821be58"
      },
      "execution_count": 11,
      "outputs": [
        {
          "output_type": "stream",
          "name": "stdout",
          "text": [
            "My name is John, and I am 36 years old\n"
          ]
        }
      ]
    },
    {
      "cell_type": "markdown",
      "source": [
        "# Exercise on Booleans"
      ],
      "metadata": {
        "id": "6vt7s36QBJzz"
      }
    },
    {
      "cell_type": "code",
      "source": [
        "print(10 > 9)\n",
        "# true"
      ],
      "metadata": {
        "colab": {
          "base_uri": "https://localhost:8080/"
        },
        "id": "ifg526QyBMdb",
        "outputId": "3ec4425d-339d-44d0-f63d-c8670199c401"
      },
      "execution_count": 12,
      "outputs": [
        {
          "output_type": "stream",
          "name": "stdout",
          "text": [
            "True\n"
          ]
        }
      ]
    },
    {
      "cell_type": "code",
      "source": [
        "print(10 == 9)\n",
        "# false"
      ],
      "metadata": {
        "colab": {
          "base_uri": "https://localhost:8080/"
        },
        "id": "Z4eJd8iYBSzB",
        "outputId": "796bbc18-0bd8-462a-d8a2-8df6e13e88a9"
      },
      "execution_count": 13,
      "outputs": [
        {
          "output_type": "stream",
          "name": "stdout",
          "text": [
            "False\n"
          ]
        }
      ]
    },
    {
      "cell_type": "code",
      "source": [
        "print(10 < 9)\n",
        "# false"
      ],
      "metadata": {
        "colab": {
          "base_uri": "https://localhost:8080/"
        },
        "id": "YshmhZLEBf3m",
        "outputId": "da832169-32e9-4852-ac70-6f5ade717b0f"
      },
      "execution_count": 14,
      "outputs": [
        {
          "output_type": "stream",
          "name": "stdout",
          "text": [
            "False\n"
          ]
        }
      ]
    },
    {
      "cell_type": "code",
      "source": [
        "#Exercise-1\n",
        "verse = \"\"\"\\\n",
        "Twinkle, twinkle, little star,\n",
        "\tHow I wonder what you are!\n",
        "\t\tUp above the world so high,\n",
        "\t\tLike a diamond in the sky.\n",
        "Twinkle, twinkle, little star,\n",
        "\tHow I wonder what you are!\"\"\"\n",
        "\n",
        "print(verse)\n",
        "\n",
        "#Exercise-2\n",
        "first_name=input(\"please enter your first name\\n\")\n",
        "last_name=input(\"please enter your last name\\n\")\n",
        "#print(last_name +\"  \"+ first_name)\n",
        "print(f\"{last_name}\\t{first_name}\")\n",
        "\n",
        "#Exercise-3\n",
        "radius = 1.1\n",
        "π=3.14\n",
        "Area=π*radius*radius\n",
        "print(\"The area of the circle=\",Area)\n",
        "\n",
        "#Exercise-4\n",
        "File_name=input(\"please enter file name\")\n",
        "f_exts=File_name.split(\".\")\n",
        "print(f_exts[-1])\n",
        "\n",
        "#Exercise-5\n",
        "value = \"Amit\"\n",
        "\n",
        "# Convert string to list\n",
        "value_list = list(value)\n",
        "\n",
        "# Convert string to tuple\n",
        "value_tuple = tuple(value)\n",
        "\n",
        "# Print the list and tuple\n",
        "\n",
        "print(\"List:\", value_list)\n",
        "print(\"Tuple:\", value_tuple)\n",
        "#Relace the index 3 in the list\n",
        "\n",
        "value_list[3]=\"T\"\n",
        "#Convert the list to string and print the list¶\n",
        "\n",
        "value_modified = ''.join(value_list)\n",
        "# Print the modified list\n",
        "print(value_modified)\n",
        "#Exercise-6\n",
        "color_list = [\"Red\", \"Green\", \"White\", \"Black\"]\n",
        "\n",
        "print(\"First color:\", color_list[0])\n",
        "\n",
        "print(\"Last color:\", color_list[-1])\n",
        "\n",
        "#Exercise-7\n",
        "# Printing the here document\n",
        "print('''\\\n",
        "#Sample Output:\n",
        "# a string that you \"don't\" have to escape\n",
        "# This\n",
        "# is a  ....... multi-line\n",
        "# heredoc string --------> example\n",
        "''')\n",
        "\n",
        "#Exercise-8\n",
        "link= \"https://www.google.com/\"\n",
        "email=\"aimt4536@gmail.com\"\n",
        "print(link.startswith(\"https\"))\n",
        "print(email.endswith(\".com\"))"
      ],
      "metadata": {
        "colab": {
          "base_uri": "https://localhost:8080/"
        },
        "id": "0Ob9RiueC0Zm",
        "outputId": "7f2b61a6-06d9-4cc6-bf52-4010e7e85c76"
      },
      "execution_count": 15,
      "outputs": [
        {
          "output_type": "stream",
          "name": "stdout",
          "text": [
            "Twinkle, twinkle, little star,\n",
            "\tHow I wonder what you are!\n",
            "\t\tUp above the world so high,\n",
            "\t\tLike a diamond in the sky.\n",
            "Twinkle, twinkle, little star,\n",
            "\tHow I wonder what you are!\n"
          ]
        }
      ]
    }
  ]
}